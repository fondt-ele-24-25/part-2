{
 "cells": [
  {
   "cell_type": "markdown",
   "metadata": {
    "slideshow": {
     "slide_type": "slide"
    }
   },
   "source": [
    "# Primi Passi in Python"
   ]
  },
  {
   "cell_type": "markdown",
   "metadata": {
    "slideshow": {
     "slide_type": "subslide"
    }
   },
   "source": [
    "## Tipi di Dato\n",
    "\n",
    "**Abbiamo detto in passato che:**\n",
    "\n",
    "* Un elaboratore definisce quali tipi di dato possiamo manipolare\n",
    "* Un linguaggio di alto livello definisce un elaboratore astratto\n",
    "\n",
    "**Vediamo quindi quali tipi di dato Python ci permette di manipolare**\n",
    "\n",
    "Questi possono essere distinti in:\n",
    "\n",
    "* Tipi di dato _semplici_:\n",
    "  - numeri interi, numeri \"reali\" (floating point), valori logici, stringhe\n",
    "* ...Tipi di dato _composti_\n",
    "  - tuple, liste, dizionari, insiemi, classi\n",
    "* ...Più qualche caso particolare (e.g. funzioni)"
   ]
  },
  {
   "cell_type": "markdown",
   "metadata": {
    "slideshow": {
     "slide_type": "subslide"
    }
   },
   "source": [
    "## Tipi di Dato Numerici\n",
    "\n",
    "**Per specificare un _numero intero_ potete scriverlo come fate di solito:**"
   ]
  },
  {
   "cell_type": "code",
   "execution_count": 1,
   "metadata": {},
   "outputs": [
    {
     "data": {
      "text/plain": [
       "10"
      ]
     },
     "execution_count": 1,
     "metadata": {},
     "output_type": "execute_result"
    }
   ],
   "source": [
    "10"
   ]
  },
  {
   "cell_type": "markdown",
   "metadata": {},
   "source": [
    "**Per un _numero \"reale\"_ potete usare la notazione decimale:**"
   ]
  },
  {
   "cell_type": "code",
   "execution_count": 2,
   "metadata": {},
   "outputs": [
    {
     "data": {
      "text/plain": [
       "0.3"
      ]
     },
     "execution_count": 2,
     "metadata": {},
     "output_type": "execute_result"
    }
   ],
   "source": [
    "0.3"
   ]
  },
  {
   "cell_type": "markdown",
   "metadata": {},
   "source": [
    "**...Oppure quella scientifica:**\n"
   ]
  },
  {
   "cell_type": "code",
   "execution_count": 3,
   "metadata": {},
   "outputs": [
    {
     "data": {
      "text/plain": [
       "1200.0"
      ]
     },
     "execution_count": 3,
     "metadata": {},
     "output_type": "execute_result"
    }
   ],
   "source": [
    "1.2e3"
   ]
  },
  {
   "cell_type": "markdown",
   "metadata": {
    "slideshow": {
     "slide_type": "subslide"
    }
   },
   "source": [
    "## Numeri Interi? Numeri Reali?\n",
    "\n",
    "**Tenete in mente che un calcolatore ha una _quantità finita_ di memoria**\n",
    "\n",
    "Questo causa difficoltà in un paio di casi:\n",
    "\n",
    "* Primo: tipicamente si usa un numero di bit fissati per rappresentare un numero\n",
    "  - Quindi non possiamo rappresentare _numeri troppo grandi/piccoli_!\n",
    "* Secondo: è complesso gestire numeri con un _rappresentazione infinita_\n",
    "  - E.g. numeri periodici, o irrazionali\n",
    "  - Per la precisione: non possono essere manipolati in modo esatto\n",
    "  - ...Anche se ci sono tecniche per mitigare questi problemi"
   ]
  },
  {
   "cell_type": "markdown",
   "metadata": {
    "slideshow": {
     "slide_type": "subslide"
    }
   },
   "source": [
    "## Numeri Interi? Numeri Reali?\n",
    "\n",
    "**Il caso dei numeri reali è particolarmente complesso**\n",
    "\n",
    "Internamente, sono rappresentati come:\n",
    "\n",
    "$$\n",
    "\\text{mantissa} \\times 2^{\\text{esponente}}\n",
    "$$\n",
    "\n",
    "* I.e. viene letteralmente usata la notazione scientifica\n",
    "* ...Semplicemente usando $2$ come base invece di $10$\n",
    "\n",
    "Per questa ragione, si parla di numeri _in virgola mobile (floating point)_ \n",
    "\n",
    "**Questa scelta ha delle conseguenze importanti**\n",
    "\n",
    "Non faremo una analisi approfondita, ma ricordate che:\n",
    "\n",
    "* Alcuni numeri reali semplicemente _non sono rappresentabili_ $\\Rightarrow$\n",
    "* ...Ogni calcolo che usa numeri floating point è soggetto ad approssimazioni"
   ]
  },
  {
   "cell_type": "markdown",
   "metadata": {
    "slideshow": {
     "slide_type": "subslide"
    }
   },
   "source": [
    "## Espressioni\n",
    "\n",
    "**In un linguaggio di programmazione:**\n",
    "\n",
    "> **Si chiama _espressione_ una notazione che denota un valore**\n",
    "\n",
    "...I.e. un testo che può essere _valutato_ producendo un valore\n",
    "\n",
    "**Quando abbiamo scritto ed \"eseguito\" dei numeri prima...**\n",
    "\n",
    "...Quello che abbiamo fatto è stato valutare espressioni\n",
    "\n",
    "* Per essere precisi, abbiamo _scritto del testo_\n",
    "* ...Che è stato _interpretato_, denotando un _valore_ (il risultato)\n",
    "\n",
    "**Se l'ultima istruzione è una espressione, Jupyter ne stampa il valore**"
   ]
  },
  {
   "cell_type": "code",
   "execution_count": 8,
   "metadata": {},
   "outputs": [
    {
     "data": {
      "text/plain": [
       "3"
      ]
     },
     "execution_count": 8,
     "metadata": {},
     "output_type": "execute_result"
    }
   ],
   "source": [
    "3"
   ]
  },
  {
   "cell_type": "markdown",
   "metadata": {
    "slideshow": {
     "slide_type": "subslide"
    }
   },
   "source": [
    "## ...Ed Istruzioni\n",
    "\n",
    "**Inoltre, in un linguaggio di programmazione:**\n",
    "\n",
    "> **Si chiama _istruzione_ una notazione che può essere eseguita**\n",
    "\n",
    "Intuitivamente, è un ordine che diamo all'elaboratore\n",
    "\n",
    "* Una espressione, da sola su una riga, è un esempio di istruzione, e.g.:\n",
    "```\n",
    "2\n",
    "```\n",
    "* ...Ma ci sono molti altri tipi di istruzione!\n",
    "\n",
    "**Le istruzioni sono il fondamento dei _linguaggi imperativi_**\n",
    "\n",
    "* Tipicamente, l'elaboratore le esegue _nell'ordine in cui sono scritte_\n",
    "* ...Ed infatti anche in Python è così"
   ]
  },
  {
   "cell_type": "markdown",
   "metadata": {
    "slideshow": {
     "slide_type": "subslide"
    }
   },
   "source": [
    "## Variabili\n",
    "\n",
    "**È possibile memorizzare valori in _variabili_**\n",
    "\n",
    "Si usa una istruzione di _assegnamento_ con la sintassi:\n",
    "\n",
    "```\n",
    "<identificatore> = <espressione>\n",
    "```\n",
    "\n",
    "Dove:\n",
    "\n",
    "* `<identificatore>` è il nome della variabile da utilizzare e segue la sintassi:\n",
    "* `<espressione>` è una qualsiasi espressione\n",
    "\n",
    "**Quando l'istruzione viene eseguita:**\n",
    "\n",
    "* L'espressione viene valutata\n",
    "* Una varabile di nome `<identificatore>` viene _definita_ (i.e. \"creata\")\n",
    "* ...Ed il valore denotato viene memorizzato nella variabile"
   ]
  },
  {
   "cell_type": "markdown",
   "metadata": {
    "slideshow": {
     "slide_type": "subslide"
    }
   },
   "source": [
    "## Variabili\n",
    "\n",
    "**Non tutti i nomi di variabile sono _validi_**\n",
    "\n",
    "Gli identificatori devono rispettare la sintassi:\n",
    "\n",
    "```\n",
    "<identificatore> ::= <lettera> | _ {<lettera> | _ | <numero naturale>}\n",
    "```\n",
    "\n",
    "* Si inizia con una lettera o un \"\\_\" (underscore)\n",
    "* ...Cui seguono, lettere, underscore, o cifre\n",
    "\n",
    "Qualche esempio di nome valido:\n",
    "\n",
    "```\n",
    "a = 2\n",
    "r2d2 = 1.5\n",
    "_nascosta = 1\n",
    "non_siate_troppo_prolissi = 0 \n",
    "```"
   ]
  },
  {
   "cell_type": "markdown",
   "metadata": {
    "slideshow": {
     "slide_type": "subslide"
    }
   },
   "source": [
    "## Variabili\n",
    "\n",
    "**Il nome di una variabile, se non seguito dal simbolo \"=\"...**\n",
    "\n",
    "...È una _espressione_, che denota il valore delle variabile:"
   ]
  },
  {
   "cell_type": "code",
   "execution_count": 9,
   "metadata": {},
   "outputs": [
    {
     "data": {
      "text/plain": [
       "10"
      ]
     },
     "execution_count": 9,
     "metadata": {},
     "output_type": "execute_result"
    }
   ],
   "source": [
    "a = 10\n",
    "a"
   ]
  },
  {
   "cell_type": "markdown",
   "metadata": {},
   "source": [
    "* Nella prima istruzione \"a\" compare a sx del simbolo \"=\"\n",
    "  - ...Quindi indica il nome della variabile in cui memorizzare il valore\n",
    "* Nella seconda istruzione, \"a\" compare da solo:\n",
    "  - ...Quindi conta come espressione"
   ]
  },
  {
   "cell_type": "markdown",
   "metadata": {
    "slideshow": {
     "slide_type": "subslide"
    }
   },
   "source": [
    "## Variabili come Contenitori\n",
    "\n",
    "**Il concetto di variabile in Python è diverso da quello usato in matematica**\n",
    "\n",
    "...Anche se un po' ci somigliano\n",
    "\n",
    "* Una variabile in matematica è un nome/simbolo associato ad un valore\n",
    "* Una variabile in Python è un _contenitore_ per un dato\n",
    "  - Inizia ad esistere solo _dopo_ che gli viene assegnato un valore\n",
    "  - Può essere riempita _più volte_\n",
    "  - Può essere _\"vuota\"_\n",
    "\n",
    "**Vediamo qualche conseguenza...**"
   ]
  },
  {
   "cell_type": "markdown",
   "metadata": {
    "slideshow": {
     "slide_type": "subslide"
    }
   },
   "source": [
    "## Variabili come Contenitori\n",
    "\n",
    "**In matematica potete scrivere così:**\n",
    "\n",
    "$$\n",
    "y = x \\\\\n",
    "x = 2\n",
    "$$\n",
    "\n",
    "In Python no!\n",
    "\n",
    "* Prima bisogna definire `x`\n",
    "* ...E solo successivamente può essere utilizzata"
   ]
  },
  {
   "cell_type": "code",
   "execution_count": 11,
   "metadata": {},
   "outputs": [
    {
     "ename": "NameError",
     "evalue": "name 'z' is not defined",
     "output_type": "error",
     "traceback": [
      "\u001b[0;31m---------------------------------------------------------------------------\u001b[0m",
      "\u001b[0;31mNameError\u001b[0m                                 Traceback (most recent call last)",
      "Cell \u001b[0;32mIn[11], line 1\u001b[0m\n\u001b[0;32m----> 1\u001b[0m y \u001b[38;5;241m=\u001b[39m \u001b[43mz\u001b[49m\n\u001b[1;32m      2\u001b[0m z \u001b[38;5;241m=\u001b[39m \u001b[38;5;241m2\u001b[39m\n",
      "\u001b[0;31mNameError\u001b[0m: name 'z' is not defined"
     ]
    }
   ],
   "source": [
    "y = z\n",
    "z = 2"
   ]
  },
  {
   "cell_type": "markdown",
   "metadata": {
    "slideshow": {
     "slide_type": "subslide"
    }
   },
   "source": [
    "## Variabili come Contenitori\n",
    "\n",
    "**In matematica potete scrivere così:**\n",
    "\n",
    "$$\n",
    "y = x \\\\\n",
    "x = 2\n",
    "$$\n",
    "\n",
    "In Python, questo è un modo corretto di ottenere lo stesso risultato:"
   ]
  },
  {
   "cell_type": "code",
   "execution_count": 12,
   "metadata": {},
   "outputs": [
    {
     "data": {
      "text/plain": [
       "2"
      ]
     },
     "execution_count": 12,
     "metadata": {},
     "output_type": "execute_result"
    }
   ],
   "source": [
    "x = 2\n",
    "y = x\n",
    "y"
   ]
  },
  {
   "cell_type": "markdown",
   "metadata": {
    "slideshow": {
     "slide_type": "subslide"
    }
   },
   "source": [
    "## Variabili com Contenitori\n",
    "\n",
    "**Si può riempire una variabile più volte**\n",
    "\n",
    "Qui un singolo riempimento:"
   ]
  },
  {
   "cell_type": "code",
   "execution_count": 13,
   "metadata": {},
   "outputs": [
    {
     "data": {
      "text/plain": [
       "2"
      ]
     },
     "execution_count": 13,
     "metadata": {},
     "output_type": "execute_result"
    }
   ],
   "source": [
    "x = 2\n",
    "x"
   ]
  },
  {
   "cell_type": "markdown",
   "metadata": {},
   "source": [
    "...E qui due:"
   ]
  },
  {
   "cell_type": "code",
   "execution_count": 14,
   "metadata": {},
   "outputs": [
    {
     "data": {
      "text/plain": [
       "3"
      ]
     },
     "execution_count": 14,
     "metadata": {},
     "output_type": "execute_result"
    }
   ],
   "source": [
    "x = 2\n",
    "x = 3\n",
    "x"
   ]
  },
  {
   "cell_type": "markdown",
   "metadata": {},
   "source": [
    "Il secondo assegnamento sovrascrive il contenuto"
   ]
  },
  {
   "cell_type": "markdown",
   "metadata": {
    "slideshow": {
     "slide_type": "subslide"
    }
   },
   "source": [
    "## Variabili come Contenitori\n",
    "\n",
    "**Una variabile può _esistere_, ma essere _vuota_**\n",
    "\n",
    "Si ottiene questo comporamento mediante il valore speciale _None_"
   ]
  },
  {
   "cell_type": "code",
   "execution_count": 15,
   "metadata": {},
   "outputs": [],
   "source": [
    "x = None\n",
    "x"
   ]
  },
  {
   "cell_type": "markdown",
   "metadata": {},
   "source": [
    "* L'istruzione di assegnamento crea la variabile\n",
    "* ...Ma essa rimane vuota\n",
    "* O meglio ancora: _contiene niente_ (cioè `None`)\n",
    "\n",
    "Se l'ultima espressione denota `None`, Jupyter non la stampa"
   ]
  },
  {
   "cell_type": "markdown",
   "metadata": {
    "slideshow": {
     "slide_type": "subslide"
    }
   },
   "source": [
    "## Tempo di Vita delle Variabili\n",
    "\n",
    "**Ogni variabile in Python ha un _tempo di vita_**\n",
    "\n",
    "I.e. l'intervallo di tempo all'interno del quale essa esiste\n",
    "\n",
    "\n",
    "* La variabili che stiamo usando al momento si dicono _globali_\n",
    "* ...Ed hanno come tempo di vita _l'intera esecuzione dell'interprete_\n",
    "\n",
    "**In Jupyter, vuol dire che durano quanto il kernel stesso**\n",
    "\n",
    "Una volta che una variabile globale è stata creata, è accessibile _da qualsisi cella_"
   ]
  },
  {
   "cell_type": "code",
   "execution_count": 16,
   "metadata": {},
   "outputs": [],
   "source": [
    "b = 2"
   ]
  },
  {
   "cell_type": "code",
   "execution_count": 17,
   "metadata": {},
   "outputs": [
    {
     "data": {
      "text/plain": [
       "2"
      ]
     },
     "execution_count": 17,
     "metadata": {},
     "output_type": "execute_result"
    }
   ],
   "source": [
    "b"
   ]
  },
  {
   "cell_type": "markdown",
   "metadata": {
    "slideshow": {
     "slide_type": "subslide"
    }
   },
   "source": [
    "## Stato del Kernel\n",
    "\n",
    "**Il kernel Jupyter _non viene riavviato_ ad ogni cella**\n",
    "\n",
    "Questo può portare ad alcuni risultati bizzarri\n",
    "\n",
    "* Provate ad eseguire la _prima_ cella cella, quindi la _seconda_\n",
    "* Provate quindi a ri-eseguire la prima cella"
   ]
  },
  {
   "cell_type": "code",
   "execution_count": 20,
   "metadata": {},
   "outputs": [
    {
     "data": {
      "text/plain": [
       "3"
      ]
     },
     "execution_count": 20,
     "metadata": {},
     "output_type": "execute_result"
    }
   ],
   "source": [
    "c"
   ]
  },
  {
   "cell_type": "code",
   "execution_count": 19,
   "metadata": {},
   "outputs": [],
   "source": [
    "c = 3"
   ]
  },
  {
   "cell_type": "markdown",
   "metadata": {},
   "source": [
    "* Può capita di confondersi e non capire più cosa stia succendedo\n",
    "* Suggerimento: ogni tanto riavviate il kernel di Jupyter!"
   ]
  },
  {
   "cell_type": "markdown",
   "metadata": {
    "slideshow": {
     "slide_type": "subslide"
    }
   },
   "source": [
    "## Espressioni Semplici e Composte\n",
    "\n",
    "**Le espressioni si possono dividere in _semplici_ e _composte_**\n",
    "\n",
    "Abbiamo già incontrato i due tipi più importanti di espressioni semplici:\n",
    "\n",
    "* Costanti\n",
    "* Nomi di variabile (se a dx del segno \"=\")\n",
    "\n",
    "...Ma la espressioni più interessanti sono quelle composte\n",
    "\n",
    "> **Un'_espressione composta_ è una espressione che consente di combinare altre espressioni**\n",
    "\n",
    "**Ve ne sono di due tipi principali:**\n",
    "\n",
    "* Chiamate a funzione\n",
    "* Operatori"
   ]
  },
  {
   "cell_type": "markdown",
   "metadata": {
    "slideshow": {
     "slide_type": "subslide"
    }
   },
   "source": [
    "## Chiamate a Funzione\n",
    "\n",
    "Il meccanismo base per la espressioni composte è la chiamata a funzione:\n",
    "\n",
    "> **Una _chiamata a funzione_**\n",
    "> \n",
    "> * È una notazione che esegue un _sotto-programma_\n",
    "> * ...Passandogli zero o più _argomenti_\n",
    "> * ...Per ottenere un risultati\n",
    "\n",
    "**Qualche nota importante:**\n",
    "\n",
    "* Il sottoprogramma è individuato da un _nome_\n",
    "* Gli argomenti _sono espressioni_\n",
    "* ...Che vengono valutate _prima_ dell'esecuzione del sottoprogramma\n",
    "* Al sottoprogramma vengono passati i _risultati_ della valutazione"
   ]
  },
  {
   "cell_type": "markdown",
   "metadata": {
    "slideshow": {
     "slide_type": "subslide"
    }
   },
   "source": [
    "## Chiamate a Funzione\n",
    "\n",
    "**La sintassi è la seguente:**\n",
    "\n",
    "```\n",
    "<chiamata a funzione> ::= <nome funzione>(<argomenti>)\n",
    "<argomenti> ::= [<espressione> {, <espressione>}]\n",
    "```\n",
    "\n",
    "* Il nome della funzione è seguito da parentesi tonde\n",
    "* Gli argomenti (se presenti) vanno tra parantesi\n",
    "* Se ce ne è più di uno, vanno separati con virgole\n",
    "\n",
    "**Vediamo un esempio**"
   ]
  },
  {
   "cell_type": "code",
   "execution_count": 21,
   "metadata": {},
   "outputs": [
    {
     "data": {
      "text/plain": [
       "2"
      ]
     },
     "execution_count": 21,
     "metadata": {},
     "output_type": "execute_result"
    }
   ],
   "source": [
    "abs(-2)"
   ]
  },
  {
   "cell_type": "markdown",
   "metadata": {},
   "source": [
    "* `abs` è il nome della funzione (valore assoluto)\n",
    "* Passando `-2` come argomenti, si ottiene `2`"
   ]
  },
  {
   "cell_type": "markdown",
   "metadata": {
    "slideshow": {
     "slide_type": "subslide"
    }
   },
   "source": [
    "## Chiamate a Funzione\n",
    "\n",
    "**Gli argomenti possono essere espressioni di qualunque tipo**\n",
    "\n",
    "...Incluse altre espressioni composte"
   ]
  },
  {
   "cell_type": "code",
   "execution_count": 22,
   "metadata": {},
   "outputs": [
    {
     "data": {
      "text/plain": [
       "9"
      ]
     },
     "execution_count": 22,
     "metadata": {},
     "output_type": "execute_result"
    }
   ],
   "source": [
    "pow(3, abs(-2))"
   ]
  },
  {
   "cell_type": "markdown",
   "metadata": {},
   "source": [
    "* `abs(-2)` è passato come argomento a `pow`\n",
    "* `pow(a, b)` restituisce il risultato di $a^b$\n",
    "\n",
    "**Gli argomenti sono valutati _prima_ dell'esecuzione del sottoprogramma**\n",
    "\n",
    "* Si comincia sempre dalla espressioni semplici\n",
    "  - In questo caso `3` e `-2`\n",
    "* Quindi si valutano una per una le chiamate a funzione:\n",
    "  - In questo caso prima `abs` e poi `pow`"
   ]
  },
  {
   "cell_type": "markdown",
   "metadata": {
    "slideshow": {
     "slide_type": "subslide"
    }
   },
   "source": [
    "## Operatori\n",
    "\n",
    "**Gli _operatori_ sono (quasi tutti) funzioni con _sintassi semplificata_**\n",
    "\n",
    "Corrispondono ad operazioni di utilizzo comune\n",
    "\n",
    "* E.g. $+$, $-$, etc.\n",
    "\n",
    "Nella maggior parte dei casi, la sintassi semplificata è quella \"naturale\"\n",
    "\n",
    "* E.g. per indicare $2 + 3$ scriviamo:"
   ]
  },
  {
   "cell_type": "code",
   "execution_count": 23,
   "metadata": {},
   "outputs": [
    {
     "data": {
      "text/plain": [
       "5"
      ]
     },
     "execution_count": 23,
     "metadata": {},
     "output_type": "execute_result"
    }
   ],
   "source": [
    "2 + 3"
   ]
  },
  {
   "cell_type": "markdown",
   "metadata": {},
   "source": [
    "**Dietro le quinte, sono equiparanbili a chiamate a funzione**\n",
    "\n",
    "* Il nome del sottoprogramma corrisponde al simbolo\n",
    "* Prima si valutano gli argomenti, poi si esegue il sottoprogramma"
   ]
  },
  {
   "cell_type": "markdown",
   "metadata": {
    "slideshow": {
     "slide_type": "subslide"
    }
   },
   "source": [
    "## Operatori Aritmetici\n",
    "\n",
    "**Python offre i seguenti _operatori artimetici_ di uso comune**\n",
    "\n",
    "Il testo dopo il simbolo \\# è un _commento_ e viene ignorato dall'interprete"
   ]
  },
  {
   "cell_type": "code",
   "execution_count": 24,
   "metadata": {},
   "outputs": [
    {
     "data": {
      "text/plain": [
       "5"
      ]
     },
     "execution_count": 24,
     "metadata": {},
     "output_type": "execute_result"
    }
   ],
   "source": [
    "2 + 3 # somma"
   ]
  },
  {
   "cell_type": "code",
   "execution_count": 25,
   "metadata": {},
   "outputs": [
    {
     "data": {
      "text/plain": [
       "6"
      ]
     },
     "execution_count": 25,
     "metadata": {},
     "output_type": "execute_result"
    }
   ],
   "source": [
    "2 * 3 # moltiplicazione"
   ]
  },
  {
   "cell_type": "code",
   "execution_count": 26,
   "metadata": {},
   "outputs": [
    {
     "data": {
      "text/plain": [
       "-1"
      ]
     },
     "execution_count": 26,
     "metadata": {},
     "output_type": "execute_result"
    }
   ],
   "source": [
    "2 - 3 # differenza"
   ]
  },
  {
   "cell_type": "code",
   "execution_count": 27,
   "metadata": {},
   "outputs": [
    {
     "data": {
      "text/plain": [
       "0.6666666666666666"
      ]
     },
     "execution_count": 27,
     "metadata": {},
     "output_type": "execute_result"
    }
   ],
   "source": [
    "2 / 3 # divisione"
   ]
  },
  {
   "cell_type": "code",
   "execution_count": 28,
   "metadata": {},
   "outputs": [
    {
     "data": {
      "text/plain": [
       "8"
      ]
     },
     "execution_count": 28,
     "metadata": {},
     "output_type": "execute_result"
    }
   ],
   "source": [
    "2**3 # elevamento a potenza"
   ]
  },
  {
   "cell_type": "markdown",
   "metadata": {
    "slideshow": {
     "slide_type": "subslide"
    }
   },
   "source": [
    "## Operatori Artimetici\n",
    "\n",
    "**...Ma anche qualche operatore meno noto**"
   ]
  },
  {
   "cell_type": "code",
   "execution_count": 29,
   "metadata": {},
   "outputs": [
    {
     "data": {
      "text/plain": [
       "2"
      ]
     },
     "execution_count": 29,
     "metadata": {},
     "output_type": "execute_result"
    }
   ],
   "source": [
    "5 // 2 # divisione intera"
   ]
  },
  {
   "cell_type": "markdown",
   "metadata": {},
   "source": [
    "La _divisione intera_ è la divisione \"delle elementari\""
   ]
  },
  {
   "cell_type": "code",
   "execution_count": 30,
   "metadata": {},
   "outputs": [
    {
     "data": {
      "text/plain": [
       "1"
      ]
     },
     "execution_count": 30,
     "metadata": {},
     "output_type": "execute_result"
    }
   ],
   "source": [
    "5 % 2 # modulo"
   ]
  },
  {
   "cell_type": "markdown",
   "metadata": {},
   "source": [
    "...Ed infatti ha un resto, recuperabile con l'operatore _modulo_"
   ]
  },
  {
   "cell_type": "markdown",
   "metadata": {
    "slideshow": {
     "slide_type": "subslide"
    }
   },
   "source": [
    "## Operatori di Confronto e Valori Logici\n",
    "\n",
    "**Possiamo confrontare numeri usando gli _operatori di confronto_**\n",
    "\n",
    "E.g. $<, \\leq$, etc.\n",
    "\n",
    "* Questi accettano come argomenti dei _valori numerici_\n",
    "* ...Ma restituiscono un _valore logico_\n",
    "* ...Ossia un valore vero (costante `True`) o falso (costante `False`)\n",
    "\n",
    "**Vediamo un paio di esempi**"
   ]
  },
  {
   "cell_type": "code",
   "execution_count": 31,
   "metadata": {},
   "outputs": [
    {
     "data": {
      "text/plain": [
       "True"
      ]
     },
     "execution_count": 31,
     "metadata": {},
     "output_type": "execute_result"
    }
   ],
   "source": [
    "2 <= 3 # minore o uguale"
   ]
  },
  {
   "cell_type": "code",
   "execution_count": 32,
   "metadata": {},
   "outputs": [
    {
     "data": {
      "text/plain": [
       "False"
      ]
     },
     "execution_count": 32,
     "metadata": {},
     "output_type": "execute_result"
    }
   ],
   "source": [
    "3 <= 2"
   ]
  },
  {
   "cell_type": "markdown",
   "metadata": {},
   "source": [
    "**I valori logici sono un _tipo di dato primitivo_ in Python**"
   ]
  },
  {
   "cell_type": "markdown",
   "metadata": {
    "slideshow": {
     "slide_type": "subslide"
    }
   },
   "source": [
    "## Operatori di Confronto e Valori Logici\n",
    "\n",
    "**Vediamo tutti gli operatori di confronto disponibili in Python**"
   ]
  },
  {
   "cell_type": "code",
   "execution_count": 33,
   "metadata": {},
   "outputs": [
    {
     "data": {
      "text/plain": [
       "True"
      ]
     },
     "execution_count": 33,
     "metadata": {},
     "output_type": "execute_result"
    }
   ],
   "source": [
    "2 < 3 # minore"
   ]
  },
  {
   "cell_type": "code",
   "execution_count": 34,
   "metadata": {},
   "outputs": [
    {
     "data": {
      "text/plain": [
       "False"
      ]
     },
     "execution_count": 34,
     "metadata": {},
     "output_type": "execute_result"
    }
   ],
   "source": [
    "3 <= 2 # minore o uguale"
   ]
  },
  {
   "cell_type": "code",
   "execution_count": 35,
   "metadata": {},
   "outputs": [
    {
     "data": {
      "text/plain": [
       "False"
      ]
     },
     "execution_count": 35,
     "metadata": {},
     "output_type": "execute_result"
    }
   ],
   "source": [
    "2 > 3 # maggiore"
   ]
  },
  {
   "cell_type": "code",
   "execution_count": 36,
   "metadata": {},
   "outputs": [
    {
     "data": {
      "text/plain": [
       "True"
      ]
     },
     "execution_count": 36,
     "metadata": {},
     "output_type": "execute_result"
    }
   ],
   "source": [
    "3 >= 2 # maggiore o uguale"
   ]
  },
  {
   "cell_type": "code",
   "execution_count": 37,
   "metadata": {},
   "outputs": [
    {
     "data": {
      "text/plain": [
       "True"
      ]
     },
     "execution_count": 37,
     "metadata": {},
     "output_type": "execute_result"
    }
   ],
   "source": [
    "2 != 3 # diverso"
   ]
  },
  {
   "cell_type": "code",
   "execution_count": 38,
   "metadata": {},
   "outputs": [
    {
     "data": {
      "text/plain": [
       "True"
      ]
     },
     "execution_count": 38,
     "metadata": {},
     "output_type": "execute_result"
    }
   ],
   "source": [
    "2 == 2 # uguale"
   ]
  },
  {
   "cell_type": "markdown",
   "metadata": {
    "slideshow": {
     "slide_type": "subslide"
    }
   },
   "source": [
    "## Uguaglianza ed Assegnamento\n",
    "\n",
    "**L'operatore di uguaglianza in Python è `==` invece che `=`**\n",
    "\n",
    "...E lo stesso succede in molti linguaggi di programmazione\n",
    "\n",
    "* La ragione è il simbolo `=` è già riservato per un altro operatore\n",
    "* Lo abbiamo già incontrato: si tratta dell'_operatore di assegnamento_\n",
    "\n",
    "**Vediamo un esempio**\n",
    "\n",
    "Per assegnare il valore `3` ad `a` usiamo:"
   ]
  },
  {
   "cell_type": "code",
   "execution_count": 39,
   "metadata": {},
   "outputs": [],
   "source": [
    "a = 3"
   ]
  },
  {
   "cell_type": "markdown",
   "metadata": {},
   "source": [
    "Per controllare se la variable `a` ha il valore `3` usiamo:"
   ]
  },
  {
   "cell_type": "code",
   "execution_count": 40,
   "metadata": {},
   "outputs": [
    {
     "data": {
      "text/plain": [
       "True"
      ]
     },
     "execution_count": 40,
     "metadata": {},
     "output_type": "execute_result"
    }
   ],
   "source": [
    "a == 3"
   ]
  },
  {
   "cell_type": "markdown",
   "metadata": {
    "slideshow": {
     "slide_type": "subslide"
    }
   },
   "source": [
    "## Assegnamento con Accumulo\n",
    "\n",
    "**Esiste una sintassi compatta per modificare una variabile con una operazione**\n",
    "\n",
    "La sintassi è:\n",
    "\n",
    "```\n",
    "<variabile> <operatore>= <espressione>\n",
    "```\n",
    "\n",
    "Per esempio:"
   ]
  },
  {
   "cell_type": "code",
   "execution_count": 41,
   "metadata": {},
   "outputs": [
    {
     "data": {
      "text/plain": [
       "2"
      ]
     },
     "execution_count": 41,
     "metadata": {},
     "output_type": "execute_result"
    }
   ],
   "source": [
    "a = 0\n",
    "a += 2\n",
    "a"
   ]
  },
  {
   "cell_type": "markdown",
   "metadata": {},
   "source": [
    "* Il valore di `<espressione>` viene (in questo caso) sommato ad `a`\n",
    "* ...Ed il risultato viene scritto di nuovo in `a`\n",
    "\n",
    "**Ne faremo uso di tanto in tanto**"
   ]
  },
  {
   "cell_type": "markdown",
   "metadata": {
    "slideshow": {
     "slide_type": "subslide"
    }
   },
   "source": [
    "## Operatori Logici\n",
    "\n",
    "**Gli _operatori logici_ permettono di combinare valori logici**\n",
    "\n",
    "Disponibili i seguenti operatori:\n",
    "\n",
    "* Operatore _and_, con sintassi: `<espr1> and <espr2>`\n",
    "  - Restituisce `True` se sia `<espr1>` che `<espr2>` denotano `True`\n",
    "* Operatore _or_ con sintassi: `<espr1> or <espr2> `\n",
    "  - Restituisce `True` se almeno uno tra `<espr1>` e `<espr2>` denota `True`\n",
    "* Operatore _not_ con sintassi: `not <espr> `\n",
    "  - Restituisce `True` se `<espr>` denota `False`, e viceversa\n",
    "\n",
    "**Sono di solito impiegati per formulare condizioni complesse**"
   ]
  },
  {
   "cell_type": "markdown",
   "metadata": {
    "slideshow": {
     "slide_type": "subslide"
    }
   },
   "source": [
    "## Operatori Logici\n",
    "\n",
    "**Vediamo qualche esempio:**"
   ]
  },
  {
   "cell_type": "code",
   "execution_count": 42,
   "metadata": {},
   "outputs": [
    {
     "data": {
      "text/plain": [
       "True"
      ]
     },
     "execution_count": 42,
     "metadata": {},
     "output_type": "execute_result"
    }
   ],
   "source": [
    "a = 3\n",
    "(2 <= a) and (a <= 4)"
   ]
  },
  {
   "cell_type": "code",
   "execution_count": 43,
   "metadata": {},
   "outputs": [
    {
     "data": {
      "text/plain": [
       "True"
      ]
     },
     "execution_count": 43,
     "metadata": {},
     "output_type": "execute_result"
    }
   ],
   "source": [
    "(2 > a) or (a == a)"
   ]
  },
  {
   "cell_type": "code",
   "execution_count": 44,
   "metadata": {},
   "outputs": [
    {
     "data": {
      "text/plain": [
       "False"
      ]
     },
     "execution_count": 44,
     "metadata": {},
     "output_type": "execute_result"
    }
   ],
   "source": [
    "not (a <= 4)"
   ]
  },
  {
   "cell_type": "markdown",
   "metadata": {},
   "source": [
    "**Per la condizione `(l <= a) and (a <= u)` esiste anche una sintassi compatta:**"
   ]
  },
  {
   "cell_type": "code",
   "execution_count": 45,
   "metadata": {},
   "outputs": [
    {
     "data": {
      "text/plain": [
       "True"
      ]
     },
     "execution_count": 45,
     "metadata": {},
     "output_type": "execute_result"
    }
   ],
   "source": [
    "2 <= a <= 4"
   ]
  },
  {
   "cell_type": "markdown",
   "metadata": {
    "slideshow": {
     "slide_type": "subslide"
    }
   },
   "source": [
    "## Operatori sulla Rappresentazione Binaria\n",
    "\n",
    "**Alcuni operatori agiscono sulla rappresentazione binaria dei numeri**\n",
    "\n",
    "_Non li useremo direttamente_, ma è importante sapere che esistono\n",
    "\n",
    "* Tutti gli operatori di questo gruppo si applicano a numeri interi\n",
    "* ...Ed agiscono bit per bit sulla loro rappresentazione \n",
    "\n",
    "**Vediamoli brevemente:**"
   ]
  },
  {
   "cell_type": "code",
   "execution_count": 46,
   "metadata": {},
   "outputs": [
    {
     "data": {
      "text/plain": [
       "2"
      ]
     },
     "execution_count": 46,
     "metadata": {},
     "output_type": "execute_result"
    }
   ],
   "source": [
    "2 & 3"
   ]
  },
  {
   "cell_type": "markdown",
   "metadata": {},
   "source": [
    "* L'operatore `&` effettua un \"and\" logico, bit per bit. E.g.:\n",
    "  - Primo argomento = un numero correspondente alla sequenza 010\n",
    "  - Secondo argomento = un numero correspondente alla sequenza 011\n",
    "  - Risultato = un numero correspondente alla sequenza 010"
   ]
  },
  {
   "cell_type": "markdown",
   "metadata": {
    "slideshow": {
     "slide_type": "subslide"
    }
   },
   "source": [
    "## Operatori sulla Rappresentazione Binaria\n",
    "\n",
    "**Alcuni operatori agiscono sulla rappresentazione binaria dei numeri**\n",
    "\n",
    "_Non li useremo direttamente_, ma è importante sapere che esistono\n",
    "\n",
    "* Tutti gli operatori di questo gruppo si applicano a numeri interi\n",
    "* ...Ed agiscono bit per bit sulla loro rappresentazione \n",
    "\n",
    "**Vediamoli brevemente:**"
   ]
  },
  {
   "cell_type": "code",
   "execution_count": 47,
   "metadata": {},
   "outputs": [
    {
     "data": {
      "text/plain": [
       "3"
      ]
     },
     "execution_count": 47,
     "metadata": {},
     "output_type": "execute_result"
    }
   ],
   "source": [
    "2 | 3"
   ]
  },
  {
   "cell_type": "markdown",
   "metadata": {},
   "source": [
    "* L'operatore `|` effettua un \"or\" logico, bit per bit"
   ]
  },
  {
   "cell_type": "code",
   "execution_count": 48,
   "metadata": {},
   "outputs": [
    {
     "data": {
      "text/plain": [
       "1"
      ]
     },
     "execution_count": 48,
     "metadata": {},
     "output_type": "execute_result"
    }
   ],
   "source": [
    "2 ^ 3"
   ]
  },
  {
   "cell_type": "markdown",
   "metadata": {},
   "source": [
    "* L'operatore `^` effettua uno \"xor\" logico (or esclusivo)"
   ]
  },
  {
   "cell_type": "markdown",
   "metadata": {
    "slideshow": {
     "slide_type": "subslide"
    }
   },
   "source": [
    "## Associatività e Priorità\n",
    "\n",
    "**Gli operatori segono le normali regole di priorità ed associatività**\n",
    "\n",
    "Per esempio:"
   ]
  },
  {
   "cell_type": "code",
   "execution_count": 49,
   "metadata": {},
   "outputs": [
    {
     "data": {
      "text/plain": [
       "10"
      ]
     },
     "execution_count": 49,
     "metadata": {},
     "output_type": "execute_result"
    }
   ],
   "source": [
    "2 * 3 + 4"
   ]
  },
  {
   "cell_type": "markdown",
   "metadata": {},
   "source": [
    "* Prima viene eseguito `2 * 3`, quindi `+ 4`\n",
    "\n",
    "Ancora:"
   ]
  },
  {
   "cell_type": "code",
   "execution_count": 50,
   "metadata": {},
   "outputs": [
    {
     "data": {
      "text/plain": [
       "5"
      ]
     },
     "execution_count": 50,
     "metadata": {},
     "output_type": "execute_result"
    }
   ],
   "source": [
    "10 - 2 - 3"
   ]
  },
  {
   "cell_type": "markdown",
   "metadata": {},
   "source": [
    "* Prima viene esegito `10 - 2`, poi `- 3`"
   ]
  },
  {
   "cell_type": "markdown",
   "metadata": {
    "slideshow": {
     "slide_type": "subslide"
    }
   },
   "source": [
    "## Associatività e Priorità\n",
    "\n",
    "**Visto che gli operatori sono tanti, però...**\n",
    "\n",
    "...È utile ricordarsi che le priorità seguono questo ordine:\n",
    "\n",
    "* Chiamate a funzione\n",
    "* Elevamento a potenza (`**`)\n",
    "* Operatori unari (`+`, `-`, etc.)\n",
    "* Operatori moltiplicativi (`*`, `/`, `//`, `%`)\n",
    "* Operatori additivi (`+`, `-`)\n",
    "* Operatori di confronto (`<`, `<=`, `==`, etc.)\n",
    "* Operatore logico `not`\n",
    "* Operatore logico `and`\n",
    "* Operatore logico `or`\n",
    "\n",
    "Nel dubbio, potete _usare le parentesi_ per forzare un ordine di valutazione"
   ]
  },
  {
   "cell_type": "markdown",
   "metadata": {
    "slideshow": {
     "slide_type": "subslide"
    }
   },
   "source": [
    "## Stampa e Stringhe\n",
    "\n",
    "**Per scrivere testo su terminale in Python si usa la funzione _print_**\n",
    "\n",
    "Per esempio:"
   ]
  },
  {
   "cell_type": "code",
   "execution_count": 51,
   "metadata": {},
   "outputs": [
    {
     "name": "stdout",
     "output_type": "stream",
     "text": [
      "Hello, world!\n"
     ]
    }
   ],
   "source": [
    "print('Hello, world!')"
   ]
  },
  {
   "cell_type": "markdown",
   "metadata": {},
   "source": [
    "**La funzione `print` accetta di solito come argomento una _stringa_**\n",
    "\n",
    "...Ossia una _porzione di testo_\n",
    "\n",
    "* Le stringhe in Python sono tipi primitivi\n",
    "* Una costante stringa si costruisce scrivendo testo tra '...' (apici singoli)\n",
    "* ...O tra doppi apici, i.e. \"...\""
   ]
  },
  {
   "cell_type": "markdown",
   "metadata": {
    "slideshow": {
     "slide_type": "subslide"
    }
   },
   "source": [
    "## Stampa e Stringhe\n",
    "\n",
    "**Vediamo qualche esempio e qualche eccezione**"
   ]
  },
  {
   "cell_type": "code",
   "execution_count": 52,
   "metadata": {},
   "outputs": [
    {
     "name": "stdout",
     "output_type": "stream",
     "text": [
      "questa è una stringa normale\n",
      "anche questa, del resto\n",
      "così posso scrivere l'apostrofo\n",
      "e così i \"doppi apici\"\n",
      "in alternativa posso usare una \"escape sequence\" \n",
      "cioè una sequence di caratteri che inizia con \\ ed e seguita da altri caratteri\n",
      "...e corrisponde ad un determinato simbolo\n"
     ]
    }
   ],
   "source": [
    "print('questa è una stringa normale')\n",
    "print('anche questa, del resto')\n",
    "print(\"così posso scrivere l'apostrofo\")\n",
    "print('e così i \"doppi apici\"')\n",
    "print(\"in alternativa posso usare una \\\"escape sequence\\\" \")\n",
    "print(\"cioè una sequence di caratteri che inizia con \\\\ ed e seguita da altri caratteri\")\n",
    "print(\"...e corrisponde ad un determinato simbolo\")"
   ]
  },
  {
   "cell_type": "markdown",
   "metadata": {},
   "source": [
    "Trovate le escape sequence disponibili [su questa pagina](https://www.w3schools.com/python/gloss_python_escape_characters.asp)"
   ]
  },
  {
   "cell_type": "markdown",
   "metadata": {
    "slideshow": {
     "slide_type": "subslide"
    }
   },
   "source": [
    "## Stampa e Stringhe\n",
    "\n",
    "**Possiamo passare più argomenti a `print`**\n",
    "\n",
    "...Che li stamperà, separati da spazi"
   ]
  },
  {
   "cell_type": "code",
   "execution_count": 53,
   "metadata": {},
   "outputs": [
    {
     "name": "stdout",
     "output_type": "stream",
     "text": [
      "Hello world\n"
     ]
    }
   ],
   "source": [
    "print('Hello', 'world')"
   ]
  },
  {
   "cell_type": "markdown",
   "metadata": {},
   "source": [
    "`print` è in grado di stampare anche numeri"
   ]
  },
  {
   "cell_type": "code",
   "execution_count": 54,
   "metadata": {},
   "outputs": [
    {
     "name": "stdout",
     "output_type": "stream",
     "text": [
      "La variabile \"a\" vale: 3\n"
     ]
    }
   ],
   "source": [
    "print('La variabile \"a\" vale:', a)"
   ]
  },
  {
   "cell_type": "markdown",
   "metadata": {
    "slideshow": {
     "slide_type": "subslide"
    }
   },
   "source": [
    "## Interpolazione di Stringhe\n",
    "\n",
    "**Possiamo far comparire _valori_ all'interno di stringhe**\n",
    "\n",
    "Vediamo con un esempio:"
   ]
  },
  {
   "cell_type": "code",
   "execution_count": 55,
   "metadata": {},
   "outputs": [
    {
     "name": "stdout",
     "output_type": "stream",
     "text": [
      "La variabile \"a\" vale 3\n"
     ]
    }
   ],
   "source": [
    "print(f'La variabile \"a\" vale {a}')"
   ]
  },
  {
   "cell_type": "markdown",
   "metadata": {},
   "source": [
    "* Davanti alla stringa mettiamo una `f` (sta per \"formatted\")\n",
    "* Nella stringa, possiamo _inserire espressioni_\n",
    "* ...Mettendole tra parentesi graffe ([qui](https://www.aranzulla.it/come-si-fa-la-parentesi-graffa-sulla-tastiera-del-pc-1111016.html) spiega come scriverle)\n",
    "\n",
    "**Così facendo:**\n",
    "\n",
    "* L'espressione viene valutata\n",
    "* ...Ed il risultato viene usato per costruire la costante stringa"
   ]
  },
  {
   "cell_type": "markdown",
   "metadata": {
    "slideshow": {
     "slide_type": "subslide"
    }
   },
   "source": [
    "## Interpolazione di Stringhe\n",
    "\n",
    "**Questo metodo si chiama _interpolazione di stringhe_ (da Python 3.6 in poi)**\n",
    "\n",
    "* Permette di stampare espressioni qualsiasi:"
   ]
  },
  {
   "cell_type": "code",
   "execution_count": 56,
   "metadata": {},
   "outputs": [
    {
     "name": "stdout",
     "output_type": "stream",
     "text": [
      "\"a\" + 2 vale: 5\n"
     ]
    }
   ],
   "source": [
    "print(f'\"a\" + 2 vale: {a + 2}')"
   ]
  },
  {
   "cell_type": "markdown",
   "metadata": {},
   "source": [
    "* ...E di specificare _come_ vogliamo stampare il numero:"
   ]
  },
  {
   "cell_type": "code",
   "execution_count": 57,
   "metadata": {},
   "outputs": [
    {
     "name": "stdout",
     "output_type": "stream",
     "text": [
      "\"a\"/4 vale: 0.750\n"
     ]
    }
   ],
   "source": [
    "print(f'\"a\"/4 vale: {a/4:.3f}')"
   ]
  },
  {
   "cell_type": "markdown",
   "metadata": {},
   "source": [
    "* `:` indica che vogliamo specificare un _formato_ per la stampa\n",
    "* `.f` che vogliamo stampare il numero in formato decimale\n",
    "* `.3f` che vogliamo visualizzare tre cifre decimali"
   ]
  },
  {
   "cell_type": "markdown",
   "metadata": {
    "slideshow": {
     "slide_type": "subslide"
    }
   },
   "source": [
    "## Operatori per Stringhe\n",
    "\n",
    "**Alcuni operatori sono applicabili anche alle stringhe**\n",
    "\n",
    "...Ed in questo caso assumono un significato particolare\n",
    "\n",
    "* L'operatore \"`+`\", applicato a due stringhe, le _concatena_"
   ]
  },
  {
   "cell_type": "code",
   "execution_count": 58,
   "metadata": {},
   "outputs": [
    {
     "data": {
      "text/plain": [
       "'ciao mondo'"
      ]
     },
     "execution_count": 58,
     "metadata": {},
     "output_type": "execute_result"
    }
   ],
   "source": [
    "'ciao ' + 'mondo'"
   ]
  },
  {
   "cell_type": "markdown",
   "metadata": {},
   "source": [
    "* L'operatore \"`*`\", applicato ad una stringa e ad un numero naturale `n`\n",
    "* ..._Ripete_ la stringa $n$ volte"
   ]
  },
  {
   "cell_type": "code",
   "execution_count": 59,
   "metadata": {},
   "outputs": [
    {
     "data": {
      "text/plain": [
       "'bla bla bla '"
      ]
     },
     "execution_count": 59,
     "metadata": {},
     "output_type": "execute_result"
    }
   ],
   "source": [
    "'bla ' * 3"
   ]
  }
 ],
 "metadata": {
  "celltoolbar": "Slideshow",
  "kernelspec": {
   "display_name": "Python 3 (ipykernel)",
   "language": "python",
   "name": "python3"
  },
  "language_info": {
   "codemirror_mode": {
    "name": "ipython",
    "version": 3
   },
   "file_extension": ".py",
   "mimetype": "text/x-python",
   "name": "python",
   "nbconvert_exporter": "python",
   "pygments_lexer": "ipython3",
   "version": "3.11.11"
  },
  "rise": {
   "center": false,
   "enable_chalkboard": true,
   "transition": "fade"
  }
 },
 "nbformat": 4,
 "nbformat_minor": 4
}
