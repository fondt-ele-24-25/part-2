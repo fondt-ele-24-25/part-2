{
 "cells": [
  {
   "cell_type": "markdown",
   "metadata": {
    "slideshow": {
     "slide_type": "slide"
    }
   },
   "source": [
    "# Notebook di Jupyter"
   ]
  },
  {
   "cell_type": "markdown",
   "metadata": {
    "slideshow": {
     "slide_type": "subslide"
    }
   },
   "source": [
    "## Notebook di Jupyter\n",
    "\n",
    "**Un Notebook di Jupyter è un ambiente di calcolo interattivo**\n",
    "\n",
    "Funziona sfruttando tre processi principali:\n",
    "\n",
    "* Un programma (_server_) fornisce accesso ai notebook, come pagine web\n",
    "* Il vostro _browser_ presenta le pagine vi permette di interagire con esse\n",
    "* Un interprete Python (_kernel_) permette di eseguire codice\n",
    "\n",
    "**Un notebook è diviso in _celle_ (visualizzate come riquadri)**\n",
    "\n",
    "Ve ne sono di due tipi ed entrambi possono essere eseguiti:\n",
    "\n",
    "* Celle di _testo_\n",
    "  - Se eseguite vengono visualizzate in modo esteticamente piacevole\n",
    "* Celle di _codice_\n",
    "  - Se eseguite, il codice è inviato all'interprete Python\n",
    "  - ...Che restituisce quindi i risultati"
   ]
  },
  {
   "cell_type": "markdown",
   "metadata": {
    "slideshow": {
     "slide_type": "subslide"
    }
   },
   "source": [
    "## Selezionare Celle\n",
    "\n",
    "**Potete selezionare una cella semplicemente cliccandoci sopra**\n",
    "\n",
    "* Con un solo click, la cella è selezionata in _modalità normale_\n",
    "* Ve ne accorgete perché a sx c'è un bordo blu\n",
    "\n",
    "<center>\n",
    "<img src=\"assets/cell_normal.png\" width=100%/>\n",
    "</center>\n",
    "\n",
    "* Con un doppio click, la cella è selezionata in _modalità modifica_\n",
    "* Ve ne accorgete perché a sx c'è un bordo verde\n",
    "* Ottenete lo stesso risultato premento \"invio\" in modalità normale\n",
    "\n",
    "<center>\n",
    "<img src=\"assets/cell_edit.png\" width=100%/>\n",
    "</center>"
   ]
  },
  {
   "cell_type": "markdown",
   "metadata": {
    "slideshow": {
     "slide_type": "subslide"
    }
   },
   "source": [
    "## Modificare Celle\n",
    "\n",
    "**Potete modificare le celle in diversi modi**\n",
    "\n",
    "* Innanzittuto, in modalità modifica potete _scriverci dentro qualcosa_\n",
    "* Potete aggiungere nuove celle con <img src=\"assets/add_button.png\" style=\"display: inline-block; width:2em\"/>\n",
    "* Potete tagliare, copiare ed incollare celle con <img src=\"assets/cut_copy_paste_button.png\" style=\"display: inline-block; width:6em\"/>\n",
    "* Potete modificare il tipo di una cella con <img src=\"assets/cell_type.png\" style=\"display: inline-block; width:8em\"/>\n",
    "* Potete salvare il notebook con <img src=\"assets/save_button.png\" style=\"display: inline-block; width:2em\"/>\n",
    "\n"
   ]
  },
  {
   "cell_type": "markdown",
   "metadata": {
    "slideshow": {
     "slide_type": "subslide"
    }
   },
   "source": [
    "## Eseguire Celle\n",
    "\n",
    "**Per eseguire le celle potete usare i pulsanti:**\n",
    "\n",
    "<center>\n",
    "<img src=\"assets/run_buttons.png\" width=20%/>\n",
    "</center>\n",
    "\n",
    "* Il primo pulsante esegue la cella\n",
    "* Il secondo interrompe l'esecuzione\n",
    "  - È utile in caso il l'esecuzione richieda molto tempo\n",
    "* Il terzo riavvia il _kernel_\n",
    "  - I.e. riavvia l'interprete responsabile dell'esecuzione del codice Python\n",
    "* L'ultimo riavvia il kernel e riesegue l'intero notebook\n",
    "\n",
    "Una lista di comandi più avanzati è accessibile con <img src=\"assets/command_button.png\" style=\"display: inline-block; width:2em\"/>"
   ]
  },
  {
   "cell_type": "markdown",
   "metadata": {
    "slideshow": {
     "slide_type": "subslide"
    }
   },
   "source": [
    "## Celle di Testo\n",
    "\n",
    "**Le celle di testo usano internamento il [formato markdown](https://www.markdownguide.org/basic-syntax/)**\n",
    "\n",
    "Si tratta di semplice testo con alcune convenzioni:\n",
    "\n",
    "```markdown\n",
    "# Un singolo \"cancelletto\" indica un titolo \n",
    "\n",
    "## Due cancelletti indicano un sottotiolo e così via\n",
    "\n",
    "* Si possono usare gli asterischi per gli elenchi\n",
    "- ...Oppure le lineette\n",
    "\n",
    "**Si può usare un doppio asterisco per il grassetto**\n",
    "\n",
    "_La sbarretta bassa (underscore) indica il corsivo_\n",
    "```\n",
    "\n",
    "* Potete farvi un'idea selezionando in modalitò modifica una di queste celle"
   ]
  },
  {
   "cell_type": "markdown",
   "metadata": {
    "slideshow": {
     "slide_type": "subslide"
    }
   },
   "source": [
    "## Celle di Testo\n",
    "\n",
    "**Quando eseguite una cella di testo**\n",
    "\n",
    "* Il \"sorgente\" markdown cella cella viene convertito in HTML\n",
    "* HTML è il linguaggio usato per descrivere le pagine web\n",
    "* Il vostro browser è in grado di presentarlo in modalità esteticamente piacevole\n",
    "\n",
    "**Provate a fare qualche modifica nella cella che segue:**"
   ]
  },
  {
   "cell_type": "markdown",
   "metadata": {},
   "source": [
    "* Cambiatela pure senza problemi!\n",
    "* Se poi vi venisse nostalgia della sua forma originaria\n",
    "* ...Vi basta premere \"CTRL+z\" per annullare l'ultima modifica\n",
    "* ...O alla peggio potete ri-scaricare la lezione ;-)"
   ]
  },
  {
   "cell_type": "markdown",
   "metadata": {
    "slideshow": {
     "slide_type": "subslide"
    }
   },
   "source": [
    "## Celle di Codice\n",
    "\n",
    "**Le celle di codice sono scritte in Python**\n",
    "\n",
    "* Quando le eseguire il loro contenuto viene invitato al kernel (l'interprete)\n",
    "* Ed i risultati vengono presentati subito sotto\n",
    "\n",
    "**Quando si impara a programmare, spesso si inizia con un \"hello, world\"**\n",
    "\n",
    "...Cioè un programma che scrive \"hello, world\"\n",
    "\n",
    "* Eccolo qua, in una cella di codice:"
   ]
  },
  {
   "cell_type": "code",
   "execution_count": 1,
   "metadata": {},
   "outputs": [
    {
     "name": "stdout",
     "output_type": "stream",
     "text": [
      "Hello, world!\n"
     ]
    }
   ],
   "source": [
    "print('Hello, world!')"
   ]
  },
  {
   "cell_type": "markdown",
   "metadata": {},
   "source": [
    "**Per chi se lo stesse chiedendo:**\n",
    "\n",
    "* La \"modalità slide\" usata per il corso è ottenuta con [questo plugin](https://rise.readthedocs.io/en/stable/)\n",
    "* Non lo discuteremo, per evitare di complicare troppo le cose"
   ]
  }
 ],
 "metadata": {
  "celltoolbar": "Slideshow",
  "kernelspec": {
   "display_name": "Python 3 (ipykernel)",
   "language": "python",
   "name": "python3"
  },
  "language_info": {
   "codemirror_mode": {
    "name": "ipython",
    "version": 3
   },
   "file_extension": ".py",
   "mimetype": "text/x-python",
   "name": "python",
   "nbconvert_exporter": "python",
   "pygments_lexer": "ipython3",
   "version": "3.11.11"
  },
  "rise": {
   "center": false,
   "enable_chalkboard": true,
   "transition": "fade"
  }
 },
 "nbformat": 4,
 "nbformat_minor": 4
}
