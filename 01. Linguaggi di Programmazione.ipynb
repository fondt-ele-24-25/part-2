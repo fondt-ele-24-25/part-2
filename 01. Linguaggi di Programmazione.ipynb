{
 "cells": [
  {
   "cell_type": "markdown",
   "metadata": {
    "slideshow": {
     "slide_type": "slide"
    }
   },
   "source": [
    "# Linguaggi di Programmazione"
   ]
  },
  {
   "cell_type": "markdown",
   "metadata": {
    "slideshow": {
     "slide_type": "subslide"
    }
   },
   "source": [
    "## Barriere di Linguaggio\n",
    "\n",
    "**Ci interessano gli elaboratori elettronici _digitali_ (computer)**\n",
    "\n",
    "* Informazioni codificate mediante numeri binari (0/1)\n",
    "* Operazioni elementari piuttosto semplici (specifica binaria)\n",
    "\n",
    "**Il linguaggio nativo di un computer si chiama _linguaggio macchina_**\n",
    "\n",
    "...Consiste in sequenze di 0/1, di solito visualizzate così:\n",
    "\n",
    "<center>\n",
    "<img src=\"assets/hex.png\" width=55%/>\n",
    "</center>"
   ]
  },
  {
   "cell_type": "markdown",
   "metadata": {
    "slideshow": {
     "slide_type": "subslide"
    }
   },
   "source": [
    "## Barriere di Linguaggio\n",
    "\n",
    "**Conseguenza: usare un computer in modo diretto è _difficile_**\n",
    "\n",
    "<center>\n",
    "    <a href=\"https://xkcd.com/378/\"><img src=\"assets/xkcd.png\" width=80%/></a>\n",
    "</center>"
   ]
  },
  {
   "cell_type": "markdown",
   "metadata": {
    "slideshow": {
     "slide_type": "subslide"
    }
   },
   "source": [
    "## Linguaggi e Traduttori\n",
    "\n",
    "**Come venirne fuori (mentalmente sani)?**\n",
    "\n",
    "Idea: usare il linguaggio macchina per definire _un programma_:\n",
    "\n",
    "* …Che accetti un linguaggio _più ricco ed astratto_\n",
    "* …E lo _traduca_ in linguaggio macchina"
   ]
  },
  {
   "cell_type": "markdown",
   "metadata": {},
   "source": [
    "**Un programma del genere si chiama _traduttore_:**\n",
    "\n",
    "<center>\n",
    "<img src=\"assets/translator.png\" width=70%/>\n",
    "</center>"
   ]
  },
  {
   "cell_type": "markdown",
   "metadata": {
    "slideshow": {
     "slide_type": "subslide"
    }
   },
   "source": [
    "## Linguaggi e Traduttori\n",
    "\n",
    "**Con i traduttori possiamo definire linguaggi sempre più _astratti_**\n",
    "\n",
    "Senza traduttore: _linguaggio macchina_\n",
    "\n",
    "```\n",
    "    0100 0000 0000 1011\n",
    "    0100 0000 0000 1001\n",
    "    0000 0000 0000 1000\n",
    "```\n",
    "\n",
    "* Istruzioni e dati in codifica binaria\n",
    "* Spesso visualizzato con [rapresentazione esadecimale](https://en.wikipedia.org/wiki/Hexadecimal)\n",
    "  - `0100 0000 0000 1011` $\\rightarrow$ `400B`\n",
    "* Gestibile in memoria senza ulteriori codifiche\n",
    "* Eseguibile direttamente dal computer"
   ]
  },
  {
   "cell_type": "markdown",
   "metadata": {
    "slideshow": {
     "slide_type": "subslide"
    }
   },
   "source": [
    "## Linguaggi e Traduttori\n",
    "\n",
    "**Con i traduttori possiamo definire linguaggi sempre più _astratti_**\n",
    "\n",
    "Con un traduttore semplice: linguaggio _assembly_\n",
    "\n",
    "```\n",
    "    LOADA H\n",
    "    LOADB Z\n",
    "    ADD\n",
    "```\n",
    "\n",
    "* Tipi di dato nativi (gestibili direttamente dal computer)\n",
    "* Associazione 1-1 con istruzioni binarie\n",
    "* ...Ma rappresentazione simbolica!"
   ]
  },
  {
   "cell_type": "markdown",
   "metadata": {
    "slideshow": {
     "slide_type": "subslide"
    }
   },
   "source": [
    "## Linguaggi e Traduttori\n",
    "\n",
    "**Con i traduttori possiamo definire linguaggi sempre più _astratti_**\n",
    "\n",
    "Con un traduttore avanzato: linguaggi _di alto livello_\n",
    "\n",
    "```python\n",
    "a = 2\n",
    "z = a + 2\n",
    "print(f'{z}')\n",
    "```\n",
    "\n",
    "* Tipi di dato nativi e derivati\n",
    "* Istruzioni complesse\n",
    "* Relativamente semplici da comprendere\n",
    "\n",
    "> **I linguaggi di alto livello sono sufficientemente astratti da essere _indipendenti dall'elaboratore fisico_**"
   ]
  },
  {
   "cell_type": "markdown",
   "metadata": {
    "slideshow": {
     "slide_type": "subslide"
    }
   },
   "source": [
    "## Linguaggi di Alto Livello\n",
    "\n",
    "**Raggiunto un livello di astrazione sufficiente:**\n",
    "\n",
    "* Un linguaggio si può basare su una _astrazione_ dell’elaboratore\n",
    "* Programmare diventa molto _più facile_\n",
    "* Lo stesso programma può essere tradotto su _elaboratori diversi_\n",
    "\n",
    "> **Un linguaggio (di programmazione) così si dice _di alto livello_**"
   ]
  },
  {
   "cell_type": "markdown",
   "metadata": {},
   "source": [
    "**Questo tipo di decomposizione in livelli di astrazione**\n",
    "\n",
    "...È una delle tecniche più utilizzate in informatica per gestire la complessità\n",
    "\n",
    "* L'abbiamo già vista in azione parlando del Sistema Operativo"
   ]
  },
  {
   "cell_type": "markdown",
   "metadata": {
    "slideshow": {
     "slide_type": "subslide"
    }
   },
   "source": [
    "## Linguaggi di Alto Livello: Tipologie\n",
    "\n",
    "<br>\n",
    "<center>\n",
    "<img src=\"assets/hll1.png\" width=80%/>\n",
    "</center>"
   ]
  },
  {
   "cell_type": "markdown",
   "metadata": {
    "slideshow": {
     "slide_type": "subslide"
    }
   },
   "source": [
    "## Linguaggi di Alto Livello: Tipologie\n",
    "\n",
    "<br>\n",
    "<center>\n",
    "<img src=\"assets/hll2.png\" width=80%/>\n",
    "</center>"
   ]
  },
  {
   "cell_type": "markdown",
   "metadata": {
    "slideshow": {
     "slide_type": "subslide"
    }
   },
   "source": [
    "## Linguaggi di Alto Livello: Tipologie ed Astrazioni\n",
    "\n",
    "**Linguaggi _imperativi_**\n",
    "\n",
    "Astrazione: macchina in grado di eseguire _sequenze di istruzioni_\n",
    "\n",
    "```c\n",
    "int main() {\n",
    "   printf(\"Hello, World!\");\n",
    "   return 0;\n",
    "}\n",
    "```\n",
    "\n",
    "* Il codice di esempio è in [linguaggio C](https://en.wikipedia.org/wiki/C_(programming_language))"
   ]
  },
  {
   "cell_type": "markdown",
   "metadata": {
    "slideshow": {
     "slide_type": "subslide"
    }
   },
   "source": [
    "## Linguaggi di Alto Livello: Tipologie ed Astrazioni\n",
    "\n",
    "**Linguaggi a _oggetti_**\n",
    "\n",
    "Astrazione: tipi di _dati astratti_ con _operazioni programmabili_\n",
    "\n",
    "```python\n",
    "class Complex:\n",
    "    def __init__(self, rval, ival):\n",
    "        self.rval = rval\n",
    "        self.ival = ival\n",
    "\n",
    "    def __add__(self, c):\n",
    "        return Complex(self.rval+c.rval, self.ival+c.ival)\n",
    "```\n",
    "\n",
    "* Il codice di esempio è in [linguaggio Python](https://en.wikipedia.org/wiki/Python_(programming_language))\n",
    "* ...Che è in realtà un linguaggio multi-paradigma..."
   ]
  },
  {
   "cell_type": "markdown",
   "metadata": {
    "slideshow": {
     "slide_type": "subslide"
    }
   },
   "source": [
    "## Linguaggi di Alto Livello: Tipologie ed Astrazioni\n",
    "\n",
    "**Linguaggi _funzionali_**\n",
    "\n",
    "Astrazione: _funzioni_ matematiche\n",
    "\n",
    "```lisp\n",
    "((lambda (x) (+ x x)) 5)\n",
    "```\n",
    "\n",
    "* Il codice di esempio è in [linguaggio Lisp](https://en.wikipedia.org/wiki/Lisp_(programming_language))\n",
    "\n",
    "**Linguaggi _logici_**\n",
    "\n",
    "Astrazione: _logica_ matematica\n",
    "\n",
    "```prolog\n",
    "likes(mary,food).\n",
    "likes(john,wine).\n",
    "?- likes(mary, X)\n",
    "```\n",
    "\n",
    "* Il codice di esempio è in [linguaggio Prolog](https://en.wikipedia.org/wiki/Prolog)"
   ]
  },
  {
   "cell_type": "markdown",
   "metadata": {
    "slideshow": {
     "slide_type": "subslide"
    }
   },
   "source": [
    "## Tipi di Traduttori\n",
    "\n",
    "**Distinguiamo _due categorie_ principali di traduttori**\n",
    "\n",
    "…A seconda di quando avvenga l’esecuzione\n",
    "\n",
    "* **Compilatori:** l’intero programma viene tradotto e quindi eseguito\n",
    "\n",
    "<center>\n",
    "<img src=\"assets/compiler.png\" width=50%/>\n",
    "</center>\n",
    "\n",
    "* **Interpreti:** le operazioni vengono tradotte ed eseguite individualmente\n",
    "\n",
    "<center>\n",
    "<img src=\"assets/interpreter.png\" width=50%/>\n",
    "</center>"
   ]
  },
  {
   "cell_type": "markdown",
   "metadata": {
    "slideshow": {
     "slide_type": "subslide"
    }
   },
   "source": [
    "## Tipi di Traduttori\n",
    "\n",
    "**Le due tipologie hanno caratteristiche complementari**\n",
    "\n",
    "* **Compilatori:**\n",
    "  - Programmare è tipicamente _più lento_ (bisogna compilare)\n",
    "  - ...Ma l'esecuzione è rapidissima\n",
    "* **Interpreti:**\n",
    "  - Programmare è tipicamente _molto veloce_\n",
    "  - ...Ma l'esecuzione è più lenta\n",
    "  \n",
    "**Esistono anche gradi intermedi**\n",
    "\n",
    "* E.g. compilazione per un interprete specializzato\n",
    "* E.g. interprete + compilazione per specifiche parti del programma"
   ]
  },
  {
   "cell_type": "markdown",
   "metadata": {
    "slideshow": {
     "slide_type": "subslide"
    }
   },
   "source": [
    "##  Che Tipo di Linguaggio?\n",
    "\n",
    "**Ma che cosa intendiamo per linguaggio?**\n",
    "\n",
    "Dal dizionario:\n",
    "\n",
    "> <i>“Un linguaggio è un insieme di parole e di metodi di combinazione delle parole usate e comprese da una comunità di persone.”</i>\n",
    "\n",
    "È una definizione _poco precisa_:\n",
    "\n",
    "* Non evita le _ambiguità_ dei linguaggi naturali\n",
    "* Non descrive processi computazionali _automatizzabili_\n",
    "* Non aiuta a stabilire _proprietà_"
   ]
  },
  {
   "cell_type": "markdown",
   "metadata": {
    "slideshow": {
     "slide_type": "subslide"
    }
   },
   "source": [
    "## Che Tipo di Linguaggio?\n",
    "\n",
    "**In pratica, dobbiamo definire _due aspetti_ di un linguaggio:**\n",
    "\n",
    "Si chiama _sintassi_...\n",
    "\n",
    "* L’insieme di regole formali per la scrittura di programmi in un linguaggio\n",
    "* ...Che dettano le modalità per costruire frasi corrette\n",
    "\n",
    "Si chiama _semantica_...\n",
    "\n",
    "* L’insieme dei _significati_ da attribuire alle frasi\n",
    "\n",
    "**Ne conseguono due tipi di errori:**\n",
    "\n",
    "* Errori sintattici: la frase non può essere tradotta\n",
    "* Erori semantici: la frase non ha il significato corretto"
   ]
  },
  {
   "cell_type": "markdown",
   "metadata": {
    "slideshow": {
     "slide_type": "subslide"
    }
   },
   "source": [
    "## Sintassi e Notazione EBNF\n",
    "\n",
    "**Per specificare la sintassi useremo a volte la _notazione EBNF_**\n",
    "\n",
    "* ...Che sta per Extended Backus-Naur Form\n",
    "* E.g. sintassi di un numero naturale\n",
    "\n",
    "```\n",
    "<naturale> ::=  0 | <cifra-non-nulla>{<cifra>}\n",
    "<cifra-non-nulla> ::=  1 | 2 | 3 | 4 | 5 | 6 | 7 | 8 |9\n",
    "<cifra> ::=  0 | <cifra-non-nulla>\n",
    "```"
   ]
  },
  {
   "cell_type": "markdown",
   "metadata": {
    "slideshow": {
     "slide_type": "subslide"
    }
   },
   "source": [
    "## Sintassi e Notazione EBNF\n",
    "\n",
    "**Per specificare la sintassi useremo a volte la _notazione EBNF_**\n",
    "\n",
    "* ...Che sta per Extended Backus-Naur Form\n",
    "* E.g. sintassi di un numero naturale\n",
    "\n",
    "```\n",
    "<naturale> ::=  0 | <cifra-non-nulla>{<cifra>}\n",
    "<cifra-non-nulla> ::=  1 | 2 | 3 | 4 | 5 | 6 | 7 | 8 |9\n",
    "<cifra> ::=  0 | <cifra-non-nulla>\n",
    "```\n",
    "\n",
    "Come leggerla:\n",
    "\n",
    "* \"`<simbolo>`\" = sostituibili secondo le regole indicate dopo il segno \"`::=`\"\n",
    "* \"`|`\" sta per \"oppure\"\n",
    "* \"`{}`\" sta per \"ripeti zero o più volte\"\n",
    "* \"`[]`\" opzionale"
   ]
  },
  {
   "cell_type": "markdown",
   "metadata": {
    "slideshow": {
     "slide_type": "subslide"
    }
   },
   "source": [
    "## Sintassi e Notazione EBNF\n",
    "\n",
    "**Guardiamo meglio l'esempio**\n",
    "\n",
    "```\n",
    "<naturale> ::=  0 | <cifra-non-nulla>{<cifra>}\n",
    "```\n",
    "\n",
    "* Un numero naturale si può riscrivere come 0\n",
    "* ...Oppure come una cifra non nulla seguita da zero o più cifre\n",
    "\n",
    "```\n",
    "<cifra-non-nulla> ::=  1 | 2 | 3 | 4 | 5 | 6 | 7 | 8 |9\n",
    "```\n",
    "\n",
    "* Una cifra non nulla è 1 o 2 o 3, etc.\n",
    "\n",
    "```\n",
    "<cifra> ::=  0 | <cifra-non-nulla>\n",
    "```\n",
    "\n",
    "* Una cifra è 0 oppure una cifra non nulla"
   ]
  },
  {
   "cell_type": "markdown",
   "metadata": {
    "slideshow": {
     "slide_type": "subslide"
    }
   },
   "source": [
    "## Semantica\n",
    "\n",
    "**Per indicare la semantica useremo _le parole_, e.g.**\n",
    "\n",
    "```\n",
    "time.sleep(secs)\n",
    "    Suspend execution of the calling thread for the given number of seconds.\n",
    "```\n",
    "\n",
    "**...Oppure _esempi_, e.g.:**\n",
    "\n",
    "```\n",
    ">>> year = 2016\n",
    ">>> f'Results of the {year} referendum'\n",
    "'Results of the 2016 Referendum'\n",
    "```\n",
    "\n",
    "**O ancora meglio provando ad _eseguire_ codice!**"
   ]
  },
  {
   "cell_type": "code",
   "execution_count": 3,
   "metadata": {},
   "outputs": [
    {
     "data": {
      "text/plain": [
       "'Mario was born in 1985'"
      ]
     },
     "execution_count": 3,
     "metadata": {},
     "output_type": "execute_result"
    }
   ],
   "source": [
    "year = 1985\n",
    "f'Mario was born in {year}'"
   ]
  },
  {
   "cell_type": "markdown",
   "metadata": {
    "slideshow": {
     "slide_type": "subslide"
    }
   },
   "source": [
    "## Linguaggio e Programma\n",
    "\n",
    "**Possiamo finalmente dare _due definizioni più precise_**\n",
    "\n",
    "> **Si dice _linguaggio di programmazione_ una notazione formale con una semantica eseguibile**\n",
    "\n",
    "> **Si dice _programma_ un testo scritto in un linguaggio di programmazione**\n",
    "\n",
    "* Un programma è spesso la codifica di un algoritmo\n",
    "* ...Ma non necessariamente"
   ]
  },
  {
   "cell_type": "markdown",
   "metadata": {
    "slideshow": {
     "slide_type": "subslide"
    }
   },
   "source": [
    "## Ambiente di Sviluppo\n",
    "\n",
    "**Per programmare quindi ci occorre:**\n",
    "\n",
    "* Un elaboratore e un linguaggio\n",
    "* Un editor (di solito di testo) per il linguaggio\n",
    "  - E.g. [blocco note](https://en.wikipedia.org/wiki/Windows_Notepad), [VS Code](https://code.visualstudio.com/)...\n",
    "* Un traduttore (compilatore o interprete)\n",
    "* ...Ed in pratica un gestore di file (e.g. esplora risorse)\n",
    "\n",
    "**Oppure un programma che svolga più di un compito, i.e. un _IDE_**\n",
    "\n",
    "Integrated Development Environment (ambiente di sviluppo integrato)\n",
    "\n",
    "* Un buon IDE per Python è per esempio [PyCharm](https://www.jetbrains.com/pycharm/)\n",
    "* ...Oppure quello che state guardando in questo momento, i.e. [Jupyter](https://jupyter.org/)"
   ]
  },
  {
   "cell_type": "markdown",
   "metadata": {
    "slideshow": {
     "slide_type": "slide"
    }
   },
   "source": [
    "# Breve Introduzione al Linguaggio Python"
   ]
  },
  {
   "cell_type": "markdown",
   "metadata": {
    "slideshow": {
     "slide_type": "subslide"
    }
   },
   "source": [
    "## Linguaggio Python\n",
    "\n",
    "**Il linguaggio Python**\n",
    "\n",
    "* È stato progettato nel 1991 dall'Olandese [Guido van Rossum](https://en.wikipedia.org/wiki/Guido_van_Rossum)\n",
    "* È arrivato alla versione 3 (per la precisione 3.12)\n",
    "\n",
    "**Il nome \"Python\" viene dai [Monthy Python](https://en.wikipedia.org/wiki/Monty_Python)**\n",
    "\n",
    "<center>\n",
    "<img src=\"assets/spam.jpg\" width=25%/>\n",
    "</center>"
   ]
  },
  {
   "cell_type": "markdown",
   "metadata": {
    "slideshow": {
     "slide_type": "subslide"
    }
   },
   "source": [
    "## Linguaggio Python\n",
    "\n",
    "**Python è un linguaggio:**\n",
    "\n",
    "* Multi-paradigma\n",
    "  - Principalmente a oggetti e imperativo\n",
    "  - ...Ma con elementi di linguaggi funzionali\n",
    "* Principalmente interpretato\n",
    "  - ...Ma con la possibilità di compilare parzialmente moduli\n",
    "* Corredato di una estensiva libreria di funzioni e moduli\n",
    "\n",
    "**Di solito i linguaggi di questo tipo _non_ sono indicati per iniziare...**"
   ]
  },
  {
   "cell_type": "markdown",
   "metadata": {
    "slideshow": {
     "slide_type": "subslide"
    }
   },
   "source": [
    "## Linguaggio Python\n",
    "\n",
    "**...Ma Python fa in qualche modo eccezione**\n",
    "\n",
    "<center>\n",
    "    <a href=\"https://xkcd.com/353/\"><img src=\"assets/antigravity.png\" width=45%/></a>\n",
    "</center>"
   ]
  },
  {
   "cell_type": "markdown",
   "metadata": {
    "slideshow": {
     "slide_type": "subslide"
    }
   },
   "source": [
    "## Linguaggio Python\n",
    "\n",
    "**Python è considerato al momento il linguaggio [più popolare](https://www.tiobe.com/tiobe-index/) al mondo**\n",
    "\n",
    "<center>\n",
    "<img src=\"assets/lang_pop.png\" width=90%/>\n",
    "</center>"
   ]
  },
  {
   "cell_type": "markdown",
   "metadata": {
    "slideshow": {
     "slide_type": "subslide"
    }
   },
   "source": [
    "## Ambiente di Sviluppo\n",
    "\n",
    "**Per programmare in Python occorre installare un interprete**\n",
    "\n",
    "Noi useremo [Anaconda](https://www.anaconda.com/)\n",
    "\n",
    "* ...Ovvero una distribuzione di Python per calcolo scientifico\n",
    "\n",
    "**Potete installare la [versione \"individual\"](https://www.anaconda.com/products/individual) (~4.4GB una volta installata)**\n",
    "\n",
    "* La versione \"individual\" contiene già tutti i pacchetti necessari\n",
    "* ...Ma all'occorrenza è possibile installarne altri\n",
    "\n",
    "**Esiste una versione più leggera di Anaconda chiamata [MiniConda](https://docs.anaconda.com/miniconda/)**\n",
    "\n",
    "* Non contiene alcuni dei pacchetti necessari per il corso\n",
    "* ...Ma non è difficile installarli in un secondo momento\n",
    "\n",
    "**Impareremo come usare il sistema nel prossimo blocco di slide**"
   ]
  },
  {
   "cell_type": "markdown",
   "metadata": {
    "slideshow": {
     "slide_type": "subslide"
    }
   },
   "source": [
    "## Ambiente di Sviluppo\n",
    "\n",
    "**Useremo come ambiente di sviluppo il sistema [Jupyter](https://jupyter.org/)**\n",
    "\n",
    "* Jupyter consente l'accesso ad un interprete Python via browser web\n",
    "* Permette di combinare \"celle\" di testo [in formato markdown](https://www.markdownguide.org/basic-syntax/)\n",
    "* ...E \"celle\" di codice che possono essere _eseguite_\n",
    "\n",
    "**È il sistema che utilizzeremo anche per le slide del corso!**\n",
    "\n",
    "Conseguenza: l'intero materiale del corso è _eseguibile_\n",
    "\n",
    "* Ogni lezione sarà contenuta in un archivio compresso (file `.zip`)\n",
    "* L'archivio conterrà le slide in PDF\n",
    "* ...Ma anche il codice della lezione\n",
    "\n",
    "Impareremo come sfruttarlo nella prossima lezione"
   ]
  },
  {
   "cell_type": "markdown",
   "metadata": {
    "slideshow": {
     "slide_type": "subslide"
    }
   },
   "source": [
    "## Da Fare a Casa \n",
    "\n",
    "**Per la prossima lezione, _installate Anaconda_ sui PC personali**\n",
    "\n",
    "Potete trovare istruzioni dettagliate sul sito del corso\n",
    "\n",
    "* Installare il sistema è sufficiente\n",
    "* ...Vederemo come usarlo e come installare pacchetti la prossima lezione\n",
    "\n",
    "Non dimenticate che:\n",
    "\n",
    "> **In questo corso, il lavoro a casa è _insostituibile_**\n",
    "\n",
    "Detto questo, non vi corre dietro nessuno:\n",
    "\n",
    "* La frequenza non è obbligatoria e tutto il materiale è disponibile online\n",
    "* Trovate il vostro ritmo e scegliete un appello di conseguenza"
   ]
  },
  {
   "cell_type": "markdown",
   "metadata": {
    "slideshow": {
     "slide_type": "subslide"
    }
   },
   "source": [
    "## Da Fare a Casa: Installare Pacchetti Anaconda\n",
    "\n",
    "**Anaconda fornisce un gestore di pacchetti accessibile da terminale**\n",
    "\n",
    "...Ossia un gestore di estensioni del linguaggio Python\n",
    "\n",
    "* È un comando che si chiama \"`conda`\"\n",
    "* Eseguendolo con \"`conda --help`\" otterrete qualcosa di questo tipo:\n",
    "\n",
    "```\n",
    "usage: conda [-h] [-V] command ...\n",
    "\n",
    "conda is a tool for managing and deploying applications, environments and packages.\n",
    "\n",
    "Options:\n",
    "    ...\n",
    "    install      Installs a list of packages into a specified conda\n",
    "                 environment.\n",
    "    list         List linked packages in a conda environment.\n",
    "    ...\n",
    "    remove       Remove a list of packages from a specified conda environment.\n",
    "```"
   ]
  },
  {
   "cell_type": "markdown",
   "metadata": {
    "slideshow": {
     "slide_type": "subslide"
    }
   },
   "source": [
    "## Da Fare a Casa: Installare Pacchetti Anaconda\n",
    "\n",
    "**Anaconda fornisce un gestore di pacchetti accessibile da terminale**\n",
    "\n",
    "* Con `conda list`\n",
    "  - ...Potete visualizzare i pacchetti già installati\n",
    "* Con `conda install <nome pacchetto>`\n",
    "  - ...Potete installare nuovi pacchetti\n",
    "* Con `conda remove <nome pacchetto>`\n",
    "  - Potete rimuovere un pacchetto installato\n",
    "\n",
    "**Provate a:**\n",
    "\n",
    "* Visualizzare la lista dei pacchetti installati\n",
    "* Installare il pacchetto \"`numpy`\", con \"`conda install numpy`\"\n",
    "  - Se avete la versione base di Anaconda, `numpy` sarà già installato"
   ]
  },
  {
   "cell_type": "markdown",
   "metadata": {
    "slideshow": {
     "slide_type": "subslide"
    }
   },
   "source": [
    "## Da Fare a Casa: Installare Pacchetti Anaconda\n",
    "\n",
    "**Assicuriamoci di avere tutti i pacchetti necessari per il corso**\n",
    "\n",
    "Installate tutti i pacchetti indicati nel file `requirements.txt`\n",
    "\n",
    "* Questi sono:\n",
    "\n",
    "```\n",
    "numpy\n",
    "scipy\n",
    "matplotlib\n",
    "jupyter\n",
    "```\n",
    "\n",
    "* Potete farlo con \"`conda install --file requirements.txt`\""
   ]
  },
  {
   "cell_type": "markdown",
   "metadata": {
    "slideshow": {
     "slide_type": "subslide"
    }
   },
   "source": [
    "## Esercizio: Avviare la Lezione\n",
    "\n",
    "**Finalmente possiamo eseguire una lezione per la prima volta**\n",
    "\n",
    "* Scaricate ed estraete la lezione di oggi\n",
    "* Aprite un terminale nella cartella\n",
    "* Eseguite il comando \"`jupyter notebook`\"\n",
    "\n",
    "**Se tutto va bene:**\n",
    "\n",
    "* Si aprirà automaticamente una finestra del vostro browser\n",
    "* ...E presenterà il contenuto della cartella corrente\n",
    "* Potete aprire uno qualunque dei notebook cliccando sul file corrispondente\n",
    "\n",
    "**Per terminare:**\n",
    "\n",
    "* Chiudete il browser\n",
    "* Tornate al terminale e premte \"CTRL+c\""
   ]
  }
 ],
 "metadata": {
  "celltoolbar": "Slideshow",
  "kernelspec": {
   "display_name": "Python 3 (ipykernel)",
   "language": "python",
   "name": "python3"
  },
  "language_info": {
   "codemirror_mode": {
    "name": "ipython",
    "version": 3
   },
   "file_extension": ".py",
   "mimetype": "text/x-python",
   "name": "python",
   "nbconvert_exporter": "python",
   "pygments_lexer": "ipython3",
   "version": "3.11.11"
  },
  "rise": {
   "center": false,
   "enable_chalkboard": true,
   "transition": "fade"
  }
 },
 "nbformat": 4,
 "nbformat_minor": 4
}
